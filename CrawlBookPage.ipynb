{
 "cells": [
  {
   "cell_type": "code",
   "execution_count": 88,
   "metadata": {},
   "outputs": [],
   "source": [
    "from bs4 import BeautifulSoup\n",
    "import requests\n",
    "import os\n",
    "import urllib.parse as up\n",
    "import re"
   ]
  },
  {
   "cell_type": "code",
   "execution_count": 247,
   "metadata": {},
   "outputs": [],
   "source": [
    "#sample_url = \"https://sb-heilbronn.lmscloud.net/cgi-bin/koha/opac-detail.pl?biblionumber=770413\"\n",
    "sample_url = \"https://sb-heilbronn.lmscloud.net/cgi-bin/koha/opac-detail.pl?biblionumber=799092\"\n",
    "#sample_url = \"https://sb-heilbronn.lmscloud.net/cgi-bin/koha/opac-detail.pl?biblionumber=770037\"\n",
    "#sample_url = \"https://sb-heilbronn.lmscloud.net/cgi-bin/koha/opac-detail.pl?biblionumber=772053\"\n",
    "sample_url = \"https://sb-heilbronn.lmscloud.net/cgi-bin/koha/opac-detail.pl?biblionumber=770413\"\n",
    "sample_url = \"https://sb-heilbronn.lmscloud.net/cgi-bin/koha/opac-detail.pl?biblionumber=9281833\""
   ]
  },
  {
   "cell_type": "code",
   "execution_count": 248,
   "metadata": {},
   "outputs": [
    {
     "name": "stdout",
     "output_type": "stream",
     "text": [
      "Wall time: 635 ms\n"
     ]
    }
   ],
   "source": [
    "%%time\n",
    "resp = requests.get(sample_url)"
   ]
  },
  {
   "cell_type": "code",
   "execution_count": 249,
   "metadata": {},
   "outputs": [
    {
     "name": "stdout",
     "output_type": "stream",
     "text": [
      "Wall time: 43.9 ms\n"
     ]
    }
   ],
   "source": [
    "%%time\n",
    "soup = BeautifulSoup(resp.content, 'html.parser')"
   ]
  },
  {
   "cell_type": "code",
   "execution_count": 250,
   "metadata": {},
   "outputs": [
    {
     "name": "stdout",
     "output_type": "stream",
     "text": [
      "Deutsch : Fit in Grammatik A1/A2\n"
     ]
    }
   ],
   "source": [
    "title = soup.find(\"h1\", class_=\"title\", property=\"name\").contents[0].strip()\n",
    "print(title)"
   ]
  },
  {
   "cell_type": "code",
   "execution_count": 251,
   "metadata": {},
   "outputs": [
    {
     "name": "stdout",
     "output_type": "stream",
     "text": [
      "9281833\n"
     ]
    }
   ],
   "source": [
    "biblionumber = soup.find(\"input\", type=\"hidden\", attrs={\"name\":\"bib\"}).get(\"value\")\n",
    "print(biblionumber)"
   ]
  },
  {
   "cell_type": "code",
   "execution_count": 252,
   "metadata": {},
   "outputs": [
    {
     "name": "stdout",
     "output_type": "stream",
     "text": [
      "https://cover.ekz.de/9783193574930.jpg\n"
     ]
    }
   ],
   "source": [
    "cover_url = soup.find(\"img\", attrs={\"title\": biblionumber}).get(\"src\")\n",
    "print(cover_url)"
   ]
  },
  {
   "cell_type": "code",
   "execution_count": 253,
   "metadata": {},
   "outputs": [
    {
     "name": "stdout",
     "output_type": "stream",
     "text": [
      "Billina, Anneli\n"
     ]
    }
   ],
   "source": [
    "author = soup.select(\"#catalogue_detail_biblio > div.Titel > h5:nth-child(2) > a > span:nth-child(1) > span > span\")[0].text\n",
    "print(author)"
   ]
  },
  {
   "cell_type": "code",
   "execution_count": 254,
   "metadata": {},
   "outputs": [],
   "source": [
    "regex_year = r\"\\S*(?P<year>(19|20)\\d{2})\\S*\"\n",
    "year_matcher = re.compile(regex_year)"
   ]
  },
  {
   "cell_type": "code",
   "execution_count": 255,
   "metadata": {},
   "outputs": [
    {
     "name": "stdout",
     "output_type": "stream",
     "text": [
      "2010\n"
     ]
    }
   ],
   "source": [
    "year_release_str = soup.find_all(\"span\", property=\"datePublished\")[0].text\n",
    "year_release = year_matcher.search(year_release_str).group(\"year\")\n",
    "print(year_release)"
   ]
  },
  {
   "cell_type": "code",
   "execution_count": 256,
   "metadata": {
    "scrolled": true
   },
   "outputs": [
    {
     "name": "stdout",
     "output_type": "stream",
     "text": [
      "1. Aufl\n"
     ]
    }
   ],
   "source": [
    "release_edition = soup.find_all(\"span\", property=\"bookEdition\")[0].text\n",
    "print(release_edition)"
   ]
  },
  {
   "cell_type": "code",
   "execution_count": 259,
   "metadata": {},
   "outputs": [],
   "source": [
    "media_type_str = soup.find_all(\"img\", class_=\"materialtype\")[0].get(\"src\")\n"
   ]
  },
  {
   "cell_type": "code",
   "execution_count": 260,
   "metadata": {},
   "outputs": [
    {
     "name": "stdout",
     "output_type": "stream",
     "text": [
      "BK\n"
     ]
    }
   ],
   "source": [
    "media_type = media_type_str.split(\"/\")[-1][:-4]\n",
    "print(media_type)"
   ]
  },
  {
   "cell_type": "code",
   "execution_count": 261,
   "metadata": {},
   "outputs": [],
   "source": [
    "publisher = soup.find_all(\"span\", property=\"publisher\")[0]"
   ]
  },
  {
   "cell_type": "code",
   "execution_count": 262,
   "metadata": {},
   "outputs": [
    {
     "name": "stdout",
     "output_type": "stream",
     "text": [
      "Hueber Verlag\n"
     ]
    }
   ],
   "source": [
    "publisher = soup.find(\"span\", property=\"publisher\").find(\"span\", property=\"name\").text\n",
    "print(publisher)"
   ]
  },
  {
   "cell_type": "code",
   "execution_count": 263,
   "metadata": {},
   "outputs": [],
   "source": [
    "regex_isbn = r\"\\D*(?P<isbn>\\d+)\\D*\"\n",
    "isbm_matcher = re.compile(regex_isbn)"
   ]
  },
  {
   "cell_type": "code",
   "execution_count": 264,
   "metadata": {},
   "outputs": [
    {
     "name": "stdout",
     "output_type": "stream",
     "text": [
      "9783193574930\n"
     ]
    }
   ],
   "source": [
    "isbn_str = soup.find(\"span\", property=\"isbn\").text\n",
    "isbn = isbm_matcher.search(isbn_str).group(\"isbn\")\n",
    "print(isbn)"
   ]
  },
  {
   "cell_type": "code",
   "execution_count": 265,
   "metadata": {
    "scrolled": true
   },
   "outputs": [
    {
     "name": "stdout",
     "output_type": "stream",
     "text": [
      "Ogt\n"
     ]
    }
   ],
   "source": [
    "system_key = soup.find(\"span\", class_=\"results_summary classification\").a.text\n",
    "print(system_key)"
   ]
  },
  {
   "cell_type": "code",
   "execution_count": 276,
   "metadata": {},
   "outputs": [
    {
     "data": {
      "text/plain": [
       "[<tr typeof=\"Offer\" vocab=\"http://schema.org/\">\n",
       " <td class=\"itype\">\n",
       " <img alt=\"Buch Sachbuch\" src=\"https://sb-heilbronn.lmscloud.net/webcustom/images/custom/mtyp/Buch%20Sachbuch.png\" title=\"Buch Sachbuch\">\n",
       "  \n",
       "  \n",
       "  Buch Sachbuch\n",
       "  </img></td>\n",
       " <td class=\"location\" property=\"seller\">\n",
       " <link href=\"#record\" property=\"itemOffered\">\n",
       " <link href=\"http://purl.org/goodrelations/v1#LeaseOut\" property=\"businessFunction\"/>\n",
       " <span class=\"branch-info-tooltip-trigger\" title=\"\">\n",
       " <span>Zentralbibliothek im K3</span>\n",
       " </span>\n",
       " <div class=\"branch-info-tooltip\"><p><strong>Öffnungszeiten in der Zentralbibliothek im Theaterforum K3<br/></strong></p>\n",
       " <table>\n",
       " <tbody>\n",
       " <tr>\n",
       " <td style=\"width: 100px;\" valign=\"top\">Montag</td>\n",
       " <td>Geschlossen</td>\n",
       " </tr>\n",
       " <tr>\n",
       " <td style=\"width: 100px;\" valign=\"top\">Dienstag</td>\n",
       " <td>10.00 - 19.00 Uhr</td>\n",
       " </tr>\n",
       " <tr>\n",
       " <td>Mittwoch</td>\n",
       " <td>10.00 - 19.00 Uhr</td>\n",
       " </tr>\n",
       " <tr>\n",
       " <td>Donnerstag</td>\n",
       " <td>10.00 - 19.00 Uhr</td>\n",
       " </tr>\n",
       " <tr>\n",
       " <td>Freitag</td>\n",
       " <td>10.00 - 19.00 Uhr</td>\n",
       " </tr>\n",
       " <tr>\n",
       " <td>Samstag</td>\n",
       " <td>10.00 - 15.00 Uhr</td>\n",
       " </tr>\n",
       " </tbody>\n",
       " </table>\n",
       " <p> </p>\n",
       " <p><small><strong>An gesetzlichen Feiertagen</strong> hat die Stadtbibliothek Heilbronn mit allen ihren Einrichtungen geschlossen.</small></p>\n",
       " <p><small><strong>Während der Schulferien</strong> sind die Zweigstellen und die Fahrbibliothek geschlossen.</small></p></div>\n",
       " <span class=\"shelvingloc\">Sprache</span>\n",
       " </link></td>\n",
       " <td class=\"collection\">Sprache</td>\n",
       " <td class=\"call_no\" property=\"sku\">\n",
       "  \n",
       "  Ogt  Gram\n",
       "  \n",
       "  \n",
       "  (<a href=\"/cgi-bin/koha/opac-detail.pl?biblionumber=9281833&amp;shelfbrowse_itemnumber=192690#holdings\">Regal durchstöbern</a>)\n",
       "  \n",
       "  \n",
       "  \n",
       "                          \n",
       "                             \n",
       "                         \n",
       "  </td>\n",
       " <td class=\"status\">\n",
       " <link href=\"http://schema.org/InStock\" property=\"availability\">\n",
       " <span class=\"item-status available\">Verfügbar </span>\n",
       " </link></td>\n",
       " <td class=\"date_due\"><span title=\"\"></span></td>\n",
       " <td class=\"barcode\" property=\"serialNumber\">83330840202</td>\n",
       " <td class=\"holds_count\">\n",
       " </td>\n",
       " </tr>, <tr typeof=\"Offer\" vocab=\"http://schema.org/\">\n",
       " <td class=\"itype\">\n",
       " <img alt=\"Buch Sachbuch\" src=\"https://sb-heilbronn.lmscloud.net/webcustom/images/custom/mtyp/Buch%20Sachbuch.png\" title=\"Buch Sachbuch\">\n",
       "  \n",
       "  \n",
       "  Buch Sachbuch\n",
       "  </img></td>\n",
       " <td class=\"location\" property=\"seller\">\n",
       " <link href=\"#record\" property=\"itemOffered\">\n",
       " <link href=\"http://purl.org/goodrelations/v1#LeaseOut\" property=\"businessFunction\"/>\n",
       " <span class=\"branch-info-tooltip-trigger\" title=\"\">\n",
       " <span>Zentralbibliothek im K3</span>\n",
       " </span>\n",
       " <div class=\"branch-info-tooltip\"><p><strong>Öffnungszeiten in der Zentralbibliothek im Theaterforum K3<br/></strong></p>\n",
       " <table>\n",
       " <tbody>\n",
       " <tr>\n",
       " <td style=\"width: 100px;\" valign=\"top\">Montag</td>\n",
       " <td>Geschlossen</td>\n",
       " </tr>\n",
       " <tr>\n",
       " <td style=\"width: 100px;\" valign=\"top\">Dienstag</td>\n",
       " <td>10.00 - 19.00 Uhr</td>\n",
       " </tr>\n",
       " <tr>\n",
       " <td>Mittwoch</td>\n",
       " <td>10.00 - 19.00 Uhr</td>\n",
       " </tr>\n",
       " <tr>\n",
       " <td>Donnerstag</td>\n",
       " <td>10.00 - 19.00 Uhr</td>\n",
       " </tr>\n",
       " <tr>\n",
       " <td>Freitag</td>\n",
       " <td>10.00 - 19.00 Uhr</td>\n",
       " </tr>\n",
       " <tr>\n",
       " <td>Samstag</td>\n",
       " <td>10.00 - 15.00 Uhr</td>\n",
       " </tr>\n",
       " </tbody>\n",
       " </table>\n",
       " <p> </p>\n",
       " <p><small><strong>An gesetzlichen Feiertagen</strong> hat die Stadtbibliothek Heilbronn mit allen ihren Einrichtungen geschlossen.</small></p>\n",
       " <p><small><strong>Während der Schulferien</strong> sind die Zweigstellen und die Fahrbibliothek geschlossen.</small></p></div>\n",
       " <span class=\"shelvingloc\">Sprache</span>\n",
       " </link></td>\n",
       " <td class=\"collection\">Sprache</td>\n",
       " <td class=\"call_no\" property=\"sku\">\n",
       "  \n",
       "  Ogt  Gram\n",
       "  \n",
       "  \n",
       "  (<a href=\"/cgi-bin/koha/opac-detail.pl?biblionumber=9281833&amp;shelfbrowse_itemnumber=192692#holdings\">Regal durchstöbern</a>)\n",
       "  \n",
       "  \n",
       "  \n",
       "                          \n",
       "                             \n",
       "                         \n",
       "  </td>\n",
       " <td class=\"status\">\n",
       " <link href=\"http://schema.org/OutOfStock\" property=\"availability\">\n",
       " <span class=\"item-status checkedout\">Ausgeliehen</span>\n",
       " </link></td>\n",
       " <td class=\"date_due\"><span title=\"2019-12-14 23:59:00\">14.12.2019</span></td>\n",
       " <td class=\"barcode\" property=\"serialNumber\">83330840237</td>\n",
       " <td class=\"holds_count\">\n",
       " </td>\n",
       " </tr>]"
      ]
     },
     "execution_count": 276,
     "metadata": {},
     "output_type": "execute_result"
    }
   ],
   "source": [
    "soup.select(\"#holdingst > tbody > tr\")"
   ]
  },
  {
   "cell_type": "code",
   "execution_count": 277,
   "metadata": {},
   "outputs": [],
   "source": [
    "elements = soup.select(\"#holdingst > tbody > tr\")"
   ]
  },
  {
   "cell_type": "code",
   "execution_count": 278,
   "metadata": {},
   "outputs": [],
   "source": [
    "n_elements = len(elements)"
   ]
  },
  {
   "cell_type": "code",
   "execution_count": 279,
   "metadata": {},
   "outputs": [
    {
     "name": "stdout",
     "output_type": "stream",
     "text": [
      "2\n"
     ]
    }
   ],
   "source": [
    "print(n_elements)"
   ]
  },
  {
   "cell_type": "code",
   "execution_count": 296,
   "metadata": {},
   "outputs": [],
   "source": [
    "elements_list = list()"
   ]
  },
  {
   "cell_type": "code",
   "execution_count": 303,
   "metadata": {},
   "outputs": [
    {
     "name": "stdout",
     "output_type": "stream",
     "text": [
      "Verfügbar\n",
      "83330840202\n",
      "Zentralbibliothek im K3\n",
      "\n",
      "Ausgeliehen\n",
      "83330840237\n",
      "Zentralbibliothek im K3\n",
      "14.12.2019\n"
     ]
    }
   ],
   "source": [
    "for i, elem in enumerate(elements):\n",
    "    elem_status = elem.find(\"span\", class_=\"item-status\").text.strip()\n",
    "    print(elem_status)\n",
    "    barcode = elem.find(\"td\", property=\"serialNumber\").text.strip()\n",
    "    print(barcode)\n",
    "    location = elem.find(\"span\", class_=\"branch-info-tooltip-trigger\").text.strip()\n",
    "    print(location)\n",
    "    date_due = elem.find(\"td\", class_=\"date_due\").span.text\n",
    "    print(date_due)"
   ]
  },
  {
   "cell_type": "code",
   "execution_count": 268,
   "metadata": {},
   "outputs": [
    {
     "data": {
      "text/plain": [
       "[]"
      ]
     },
     "execution_count": 268,
     "metadata": {},
     "output_type": "execute_result"
    }
   ],
   "source": [
    "soup.select(\"#holdingst > tbody > tr > td.status > span\")"
   ]
  },
  {
   "cell_type": "code",
   "execution_count": null,
   "metadata": {},
   "outputs": [],
   "source": []
  }
 ],
 "metadata": {
  "kernelspec": {
   "display_name": "Python 3",
   "language": "python",
   "name": "python3"
  },
  "language_info": {
   "codemirror_mode": {
    "name": "ipython",
    "version": 3
   },
   "file_extension": ".py",
   "mimetype": "text/x-python",
   "name": "python",
   "nbconvert_exporter": "python",
   "pygments_lexer": "ipython3",
   "version": "3.7.3"
  }
 },
 "nbformat": 4,
 "nbformat_minor": 2
}
